{
 "cells": [
  {
   "cell_type": "markdown",
   "id": "98e84552-e5bc-4ccf-b28d-da22ea696b6d",
   "metadata": {},
   "source": [
    "## Make trajectory file for model subsampling\n",
    "\n",
    "Create a text file with x/y/z coordinates that can be used to specify survey track for model subsampling\n",
    "\n",
    "First commit Aug 19, 2021 by kdrushka"
   ]
  },
  {
   "cell_type": "code",
   "execution_count": 1,
   "id": "5762a249-7563-4e78-8516-877a835d50bc",
   "metadata": {},
   "outputs": [],
   "source": [
    "import xarray as xr"
   ]
  },
  {
   "cell_type": "code",
   "execution_count": 2,
   "id": "53ab9f48-3663-4110-847a-ff37c7114b9a",
   "metadata": {},
   "outputs": [
    {
     "name": "stdout",
     "output_type": "stream",
     "text": [
      "trajectory saved to data/survey_trajectory_ACC_SMST_glider.nc\n"
     ]
    }
   ],
   "source": [
    "trajectory_name = 'ACC_SMST_glider'\n",
    "xwaypoints = [151.75, 152.9, 153.9, 152.66, 151.75]\n",
    "ywaypoints = [-55.0, -55.0, -56.5, -56.5, -55.0]\n",
    "zrange = [-1, -1000] \n",
    "hspeed = 0.25 # platform horizontal speed in m/s\n",
    "vspeed = 0.1 # platform vertical (profile) speed in m/s \n",
    "PATTERN = 'lawnmower' # sampling pattern: 'lawnmower' or 'back-forth'\n",
    "\n",
    "# save the track as a netcdf file\n",
    "survey = xr.Dataset(\n",
    "    dict(\n",
    "        xwaypoints = xr.DataArray(xwaypoints,dims='points'),\n",
    "        ywaypoints = xr.DataArray(ywaypoints,dims='points'),\n",
    "        zrange = xr.DataArray(zrange),\n",
    "        hspeed = xr.DataArray(hspeed),\n",
    "        vspeed = xr.DataArray(vspeed)\n",
    "        \n",
    "    )\n",
    ")\n",
    "\n",
    "survey.attrs['pattern'] = PATTERN\n",
    "\n",
    "dv_encoding = {'netcdf4'}\n",
    "trajectory_file = 'data/survey_trajectory_' + trajectory_name + '.nc'\n",
    "survey.to_netcdf(trajectory_file)\n",
    "print('trajectory saved to ' + trajectory_file)"
   ]
  }
 ],
 "metadata": {
  "kernelspec": {
   "display_name": "Python 3",
   "language": "python",
   "name": "python3"
  },
  "language_info": {
   "codemirror_mode": {
    "name": "ipython",
    "version": 3
   },
   "file_extension": ".py",
   "mimetype": "text/x-python",
   "name": "python",
   "nbconvert_exporter": "python",
   "pygments_lexer": "ipython3",
   "version": "3.9.10"
  }
 },
 "nbformat": 4,
 "nbformat_minor": 5
}
