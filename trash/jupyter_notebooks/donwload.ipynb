{
 "cells": [
  {
   "cell_type": "code",
   "execution_count": null,
   "id": "f1d66307-a52f-4d82-9403-28ef6f0ffaf4",
   "metadata": {},
   "outputs": [],
   "source": []
  },
  {
   "cell_type": "code",
   "execution_count": null,
   "id": "368358e3-99ad-4a63-9a5f-25b5b2d5f2c2",
   "metadata": {},
   "outputs": [],
   "source": [
    "def setup_earthdata_login_auth(endpoint: str='urs.earthdata.nasa.gov'):\n",
    "    netrc_name = \"_netrc\" if system()==\"Windows\" else \".netrc\"\n",
    "    try:\n",
    "        username, _, password = netrc(file=join(expanduser('~'), netrc_name)).authenticators(endpoint)\n",
    "    except (FileNotFoundError, TypeError):\n",
    "        print('Please provide your Earthdata Login credentials for access.')\n",
    "        print('Your info will only be passed to %s and will not be exposed in Jupyter.' % (endpoint))\n",
    "        username = input('Username: ')\n",
    "        password = getpass('Password: ')\n",
    "    manager = request.HTTPPasswordMgrWithDefaultRealm()\n",
    "    manager.add_password(None, endpoint, username, password)\n",
    "    auth = request.HTTPBasicAuthHandler(manager)\n",
    "    jar = CookieJar()\n",
    "    processor = request.HTTPCookieProcessor(jar)\n",
    "    opener = request.build_opener(auth, processor)\n",
    "    request.install_opener(opener)"
   ]
  },
  {
   "cell_type": "code",
   "execution_count": null,
   "id": "0cf22919-0f35-4f32-b17e-bd6f717dff2a",
   "metadata": {},
   "outputs": [],
   "source": [
    "def download_llc4320_data(RegionName, datadir, start_date, ndays):\n",
    "    \"\"\"\n",
    "    Check for existing llc4320 files in 'datadir' and download if they aren't found\n",
    "    inputs XXX\n",
    "    \"\"\"\n",
    "    ShortName = \"MITgcm_LLC4320_Pre-SWOT_JPL_L4_\" + RegionName + \"_v1.0\"\n",
    "    date_list = [start_date + timedelta(days=x) for x in range(ndays)]\n",
    "    target_files = [f'LLC4320_pre-SWOT_{RegionName}_{date_list[n].strftime(\"%Y%m%d\")}.nc' for n in range(ndays)] # list of files to check for/download\n",
    "    setup_earthdata_login_auth()\n",
    "    \n",
    "    # https access for each target_file\n",
    "    url = \"https://archive.podaac.earthdata.nasa.gov/podaac-ops-cumulus-protected\"\n",
    "    https_accesses = [f\"{url}/{ShortName}/{target_file}\" for target_file in target_files]\n",
    "#     print(https_accesses)\n",
    "    \n",
    "\n",
    "    Path(datadir).mkdir(parents=True, exist_ok=True) # create datadir if it doesn't exist\n",
    "\n",
    "    # list of dataset objects\n",
    "    dds = []\n",
    "    for https_access,target_file in zip(https_accesses,target_files):\n",
    "        \n",
    "\n",
    "        if not(os.path.isfile(datadir + target_file)):\n",
    "            print('downloading ' + target_file) # print file name\n",
    "            try:\n",
    "                filename_dir = os.path.join(datadir, target_file)\n",
    "                request.urlretrieve(https_access, filename_dir)\n",
    "            except:\n",
    "                print(' ---- error - skipping this file')"
   ]
  },
  {
   "cell_type": "code",
   "execution_count": null,
   "id": "c46d798b-8b29-4431-84d9-b1427897d4f0",
   "metadata": {},
   "outputs": [],
   "source": []
  }
 ],
 "metadata": {
  "kernelspec": {
   "display_name": "Python 3 (ipykernel)",
   "language": "python",
   "name": "python3"
  },
  "language_info": {
   "codemirror_mode": {
    "name": "ipython",
    "version": 3
   },
   "file_extension": ".py",
   "mimetype": "text/x-python",
   "name": "python",
   "nbconvert_exporter": "python",
   "pygments_lexer": "ipython3",
   "version": "3.8.13"
  }
 },
 "nbformat": 4,
 "nbformat_minor": 5
}
